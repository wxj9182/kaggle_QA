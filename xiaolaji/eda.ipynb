{
 "cells": [
  {
   "cell_type": "code",
   "execution_count": 1,
   "metadata": {},
   "outputs": [],
   "source": [
    "# import subprocess\n",
    "DIR = 'input/'\n",
    "PATH_TRAIN = DIR + 'simplified-nq-train.jsonl'\n",
    "PATH_TEST = DIR + 'simplified-nq-test.jsonl'\n",
    "# N_TRAIN_bytes = subprocess.check_output(\"wc -l {}\".format(PATH_TRAIN), shell=True)\n",
    "# N_TEST_bytes = subprocess.check_output(\"wc -l {}\".format(PATH_TEST), shell=True)\n",
    "\n",
    "# N_TRAIN = int(N_TRAIN_bytes.split()[0])\n",
    "# N_TEST = int(N_TEST_bytes.split()[0])\n",
    "# print(N_TRAIN)  307373\n",
    "# print(N_TEST)  345"
   ]
  },
  {
   "cell_type": "code",
   "execution_count": 2,
   "metadata": {},
   "outputs": [],
   "source": [
    "import numpy as np\n",
    "import pandas as pd\n",
    "import gc\n",
    "import os\n",
    "import string, re\n",
    "import pickle\n",
    "import json\n",
    "import nltk\n",
    "from nltk.corpus import stopwords\n",
    "from tqdm import tqdm_notebook as tqdm\n",
    "import matplotlib.pyplot as plt\n",
    "import seaborn as sns\n",
    "sns.set_style(\"darkgrid\",{\"font.sans-serif\":['KaiTi', 'Arial']})\n",
    "import warnings\n",
    "warnings.filterwarnings(\"ignore\")  # 不显示警告\n",
    "\n",
    "%matplotlib inline\n",
    "\n",
    "N_TRAIN=307373\n",
    "N_TEST=345"
   ]
  },
  {
   "cell_type": "code",
   "execution_count": 5,
   "metadata": {},
   "outputs": [
    {
     "data": {
      "application/vnd.jupyter.widget-view+json": {
       "model_id": "8ec0eb5a3a21410da7270d30e8b72f73",
       "version_major": 2,
       "version_minor": 0
      },
      "text/plain": [
       "HBox(children=(IntProgress(value=0, max=307373), HTML(value='')))"
      ]
     },
     "metadata": {},
     "output_type": "display_data"
    },
    {
     "name": "stdout",
     "output_type": "stream",
     "text": [
      "\n"
     ]
    }
   ],
   "source": [
    "n_long_candidates_train = np.zeros(N_TRAIN)\n",
    "t_long_train = np.zeros((N_TRAIN,2))\n",
    "t_yesno_train = []\n",
    "with open(PATH_TRAIN, 'rt') as f:\n",
    "    for i in tqdm(range(N_TRAIN)):\n",
    "        dic = json.loads(f.readline())\n",
    "        n_long_candidates_train[i] = len(dic['long_answer_candidates'])\n",
    "        t_long_train[i,0] = dic['annotations'][0]['long_answer']['start_token']\n",
    "        t_long_train[i,1] = dic['annotations'][0]['long_answer']['end_token']\n",
    "        t_yesno_train.append(dic['annotations'][0]['yes_no_answer'])"
   ]
  },
  {
   "cell_type": "code",
   "execution_count": 6,
   "metadata": {},
   "outputs": [
    {
     "data": {
      "application/vnd.jupyter.widget-view+json": {
       "model_id": "94f00d8d5a4d4876bd5cf8bed1b7a834",
       "version_major": 2,
       "version_minor": 0
      },
      "text/plain": [
       "HBox(children=(IntProgress(value=0, max=345), HTML(value='')))"
      ]
     },
     "metadata": {},
     "output_type": "display_data"
    },
    {
     "name": "stdout",
     "output_type": "stream",
     "text": [
      "\n"
     ]
    }
   ],
   "source": [
    "n_long_candidates_test = np.zeros(N_TEST)\n",
    "with open(PATH_TEST, 'rt') as f:\n",
    "    for i in tqdm(range(N_TEST)):\n",
    "        dic = json.loads(f.readline())\n",
    "        n_long_candidates_test[i] = len(dic['long_answer_candidates'])"
   ]
  },
  {
   "cell_type": "code",
   "execution_count": 7,
   "metadata": {},
   "outputs": [
    {
     "name": "stdout",
     "output_type": "stream",
     "text": [
      "the length of n_long_candidates_train: 307373\n",
      "the shape of t_long_train: (307373, 2)\n",
      "the length of t_yesno_train: 307373\n"
     ]
    }
   ],
   "source": [
    "print('the length of n_long_candidates_train:', end=' ')  # train中候选长答案的数目\n",
    "print(len(n_long_candidates_train))\n",
    "print('the shape of t_long_train:', end=' ')  # 长答案的开始index和终止index\n",
    "print(t_long_train.shape)\n",
    "print('the length of t_yesno_train:', end=' ')  # train中答案为yes或no的可能\n",
    "print(len(t_yesno_train))"
   ]
  },
  {
   "cell_type": "code",
   "execution_count": 8,
   "metadata": {},
   "outputs": [
    {
     "name": "stdout",
     "output_type": "stream",
     "text": [
      "--------------------------------n_long_candidates_train[:5]---------------------------------------\n",
      "[ 63.  37.  49. 481.  97.]\n",
      "--------------------------------------t_long_train[:5]--------------------------------------------\n",
      "[[ 1.952e+03  2.019e+03]\n",
      " [ 2.120e+02  3.100e+02]\n",
      " [ 3.190e+02  4.380e+02]\n",
      " [ 5.090e+02  5.760e+02]\n",
      " [-1.000e+00 -1.000e+00]]\n",
      "-------------------------------------t_yesno_train[:5]--------------------------------------------\n",
      "['NONE', 'NONE', 'NONE', 'NONE', 'NONE']\n"
     ]
    }
   ],
   "source": [
    "print('--------------------------------n_long_candidates_train[:5]---------------------------------------')\n",
    "print(n_long_candidates_train[:5])\n",
    "print('--------------------------------------t_long_train[:5]--------------------------------------------')\n",
    "print(t_long_train[:5])\n",
    "print('-------------------------------------t_yesno_train[:5]--------------------------------------------')\n",
    "print(t_yesno_train[:5])"
   ]
  },
  {
   "cell_type": "markdown",
   "metadata": {},
   "source": [
    "##### train中答案为NONE的占比最大，为98.76%\n",
    "##### train中答案为YES的占比最大，为0.77%\n",
    "##### train中答案为NO的占比最大，为0.47%"
   ]
  },
  {
   "cell_type": "code",
   "execution_count": 10,
   "metadata": {},
   "outputs": [
    {
     "data": {
      "image/png": "[encoded data removed]",
      "text/plain": [
       "<Figure size 432x288 with 1 Axes>"
      ]
     },
     "metadata": {
      "needs_background": "light"
     },
     "output_type": "display_data"
    }
   ],
   "source": [
    "pro1 = np.sum(i == 'NONE' for i in t_yesno_train)/len(t_yesno_train)\n",
    "pro2 = np.sum(i == 'YES' for i in t_yesno_train)/len(t_yesno_train)\n",
    "pro3 = np.sum(i == 'NO' for i in t_yesno_train)/len(t_yesno_train)\n",
    "\n",
    "plt.bar(range(3), [pro1, pro2, pro3], color='rgb', tick_label=['NONE','YES','NO'])\n",
    "plt.ylabel('proportion')\n",
    "plt.ylim([0, 1])\n",
    "for x1, x2 in enumerate([pro1, pro2, pro3]):\n",
    "    plt.text(x1, x2, '%.2f%%' % (x2 * 100))\n",
    "plt.show()"
   ]
  },
  {
   "cell_type": "markdown",
   "metadata": {},
   "source": [
    "##### train中备选长答案的分布——备选长答案最多有 7946 个！ 每个问题最少有1个备选长答案\n",
    "##### test中备选长答案的分布——备选长答案最多有 1873 个！ 每个问题最少有2个备选长答案"
   ]
  },
  {
   "cell_type": "code",
   "execution_count": 11,
   "metadata": {},
   "outputs": [
    {
     "name": "stdout",
     "output_type": "stream",
     "text": [
      "--------------------------------n_long_candidates_train---------------------------------------\n",
      "count    307373.000000\n",
      "mean        131.354185\n",
      "std         170.104565\n",
      "min           1.000000\n",
      "25%          45.000000\n",
      "50%          87.000000\n",
      "75%         158.000000\n",
      "max        7946.000000\n",
      "dtype: float64\n",
      "---------------------------------n_long_candidates_test---------------------------------------\n",
      "count     345.000000\n",
      "mean      130.710145\n",
      "std       171.995834\n",
      "min         2.000000\n",
      "25%        48.000000\n",
      "50%        86.000000\n",
      "75%       155.000000\n",
      "max      1837.000000\n",
      "dtype: float64\n"
     ]
    }
   ],
   "source": [
    "print('--------------------------------n_long_candidates_train---------------------------------------')\n",
    "print(pd.Series(n_long_candidates_train).describe())\n",
    "print('---------------------------------n_long_candidates_test---------------------------------------')\n",
    "print(pd.Series(n_long_candidates_test).describe())"
   ]
  },
  {
   "cell_type": "markdown",
   "metadata": {},
   "source": [
    "##### train中50.5%的开始、结束的index都为-1"
   ]
  },
  {
   "cell_type": "code",
   "execution_count": 12,
   "metadata": {},
   "outputs": [
    {
     "name": "stdout",
     "output_type": "stream",
     "text": [
      "--------------------------------t_long_train[:, 0]---------------------------------------\n",
      "count    307373.000000\n",
      "mean        532.571589\n",
      "std        1600.149053\n",
      "min          -1.000000\n",
      "25%          -1.000000\n",
      "50%          -1.000000\n",
      "75%         367.000000\n",
      "max       87343.000000\n",
      "dtype: float64\n",
      "--------------------------------t_long_train[:, 1]---------------------------------------\n",
      "count    307373.000000\n",
      "mean        722.793020\n",
      "std        2041.141321\n",
      "min          -1.000000\n",
      "25%          -1.000000\n",
      "50%          -1.000000\n",
      "75%         535.000000\n",
      "max      123780.000000\n",
      "dtype: float64\n"
     ]
    }
   ],
   "source": [
    "print('--------------------------------t_long_train[:, 0]---------------------------------------')\n",
    "print(pd.Series(t_long_train[:, 0]).describe())\n",
    "print('--------------------------------t_long_train[:, 1]---------------------------------------')\n",
    "print(pd.Series(t_long_train[:, 1]).describe())"
   ]
  },
  {
   "cell_type": "code",
   "execution_count": 13,
   "metadata": {},
   "outputs": [
    {
     "data": {
      "image/png": "[encoded data removed]",
      "text/plain": [
       "<Figure size 432x288 with 1 Axes>"
      ]
     },
     "metadata": {
      "needs_background": "light"
     },
     "output_type": "display_data"
    }
   ],
   "source": [
    "cnt1, cnt2 = 0, 0\n",
    "for i in t_long_train:\n",
    "    if int(i[0]) == -1:\n",
    "        cnt1 += 1\n",
    "    if int(i[1]) == -1:\n",
    "        cnt2 += 1\n",
    "y1 = [cnt1, len(t_long_train)-cnt1]\n",
    "y2 = [cnt2, len(t_long_train)-cnt2]\n",
    "\n",
    "bar_width = 0.45\n",
    "plt.bar(np.arange(2), y1, label = 'start tokens', color = 'steelblue', alpha = 0.8, width = bar_width)\n",
    "plt.bar(np.arange(2)+bar_width, y2, label = 'end tokens', color = 'indianred', alpha = 0.8, width = bar_width)\n",
    "plt.xticks(np.arange(2)+bar_width, labels=['tokens=-1', 'tokens!=-1'])\n",
    "plt.ylabel('samples')\n",
    "plt.ylim([0, 200000])\n",
    "plt.title('tokens=-1和tokens!=-1的样本数量')\n",
    "for x1, x2 in enumerate(y1):\n",
    "    plt.text(x1, x2+100, '%s' %x2)\n",
    "for x1, x2 in enumerate(y2):\n",
    "    plt.text(x1+bar_width, x2+100, '%s' %x2)\n",
    "plt.legend()\n",
    "plt.show()"
   ]
  },
  {
   "cell_type": "markdown",
   "metadata": {},
   "source": [
    "##### 当开始和结束的token为-1时，yes or no的结果一定是NONE，反之不成立(因为yes or no的结果有98.76%为NONE)"
   ]
  },
  {
   "cell_type": "code",
   "execution_count": 14,
   "metadata": {},
   "outputs": [
    {
     "name": "stdout",
     "output_type": "stream",
     "text": [
      "50.50% of tokens are -1.\n",
      "50.50% of yes or no are NONE.\n"
     ]
    }
   ],
   "source": [
    "print('{0:.2f}% of tokens are -1.'.format(np.sum(t_long_train[:,0] < 0) / N_TRAIN * 100))\n",
    "cnt = 0\n",
    "for i in range(len(t_long_train)):\n",
    "    if int(t_long_train[i, 0]) == -1 and t_yesno_train[i] == 'NONE':\n",
    "        cnt += 1\n",
    "print('%.2f%% of yes or no are NONE.'% (cnt/len(t_yesno_train)*100))"
   ]
  },
  {
   "cell_type": "code",
   "execution_count": 29,
   "metadata": {},
   "outputs": [
    {
     "data": {
      "text/plain": [
       "5428"
      ]
     },
     "execution_count": 29,
     "metadata": {},
     "output_type": "execute_result"
    }
   ],
   "source": [
    "del t_yesno_train, t_long_train, n_long_candidates_test, n_long_candidates_train\n",
    "gc.collect()"
   ]
  },
  {
   "cell_type": "code",
   "execution_count": 22,
   "metadata": {},
   "outputs": [],
   "source": [
    "def build_train(train_path, n_rows=N_TRAIN, sampling_rate=15):\n",
    "    with open(train_path) as f:\n",
    "        processed_rows = []\n",
    "\n",
    "        for i in tqdm(range(n_rows)):\n",
    "            line = f.readline()\n",
    "            if not line:\n",
    "                break\n",
    "\n",
    "            line = json.loads(line)\n",
    "\n",
    "            text = line['document_text'].split(' ')\n",
    "            question = line['question_text']\n",
    "            annotations = line['annotations'][0]\n",
    "\n",
    "            for i, candidate in enumerate(line['long_answer_candidates']):\n",
    "                label = i == annotations['long_answer']['candidate_index']\n",
    "\n",
    "                start = candidate['start_token']\n",
    "                end = candidate['end_token']\n",
    "\n",
    "                if label or (i % sampling_rate == 0):\n",
    "                    processed_rows.append({\n",
    "                        'text': \" \".join(text[start:end]),\n",
    "                        'is_long_answer': label,\n",
    "                        'question': question,\n",
    "                        'annotation_id': annotations['annotation_id']\n",
    "                    })\n",
    "\n",
    "        train = pd.DataFrame(processed_rows)\n",
    "\n",
    "        return train\n",
    "\n",
    "\n",
    "def build_test(test_path):\n",
    "    with open(test_path) as f:\n",
    "        processed_rows = []\n",
    "\n",
    "        for line in tqdm(f):\n",
    "            line = json.loads(line)\n",
    "\n",
    "            text = line['document_text'].split(' ')\n",
    "            question = line['question_text']\n",
    "            example_id = line['example_id']\n",
    "\n",
    "            for candidate in line['long_answer_candidates']:\n",
    "                start = candidate['start_token']\n",
    "                end = candidate['end_token']\n",
    "\n",
    "                processed_rows.append({\n",
    "                    'text': \" \".join(text[start:end]),\n",
    "                    'question': question,\n",
    "                    'example_id': example_id,\n",
    "                    'sequence': f'{start}:{end}'\n",
    "\n",
    "                })\n",
    "\n",
    "        test = pd.DataFrame(processed_rows)\n",
    "\n",
    "    return test\n",
    "\n",
    "\n",
    "directory = 'input/'\n",
    "train_path = directory + 'simplified-nq-train.jsonl'\n",
    "test_path = directory + 'simplified-nq-test.jsonl'"
   ]
  },
  {
   "cell_type": "code",
   "execution_count": 23,
   "metadata": {},
   "outputs": [],
   "source": [
    "# dfff = pd.DataFrame(t_long_train)\n",
    "# tqdm(dfff.to_csv(\"just_test.csv\", index=None))"
   ]
  },
  {
   "cell_type": "code",
   "execution_count": 26,
   "metadata": {},
   "outputs": [
    {
     "data": {
      "application/vnd.jupyter.widget-view+json": {
       "model_id": "64eef0b1f9b34e4fb4cc9ea67e7115a9",
       "version_major": 2,
       "version_minor": 0
      },
      "text/plain": [
       "HBox(children=(IntProgress(value=0, max=307373), HTML(value='')))"
      ]
     },
     "metadata": {},
     "output_type": "display_data"
    },
    {
     "data": {
      "application/vnd.jupyter.widget-view+json": {
       "model_id": "6f7c28724d9e436ba1e0f0076565b2f8",
       "version_major": 2,
       "version_minor": 0
      },
      "text/plain": [
       "HBox(children=(IntProgress(value=1, bar_style='info', max=1), HTML(value='')))"
      ]
     },
     "metadata": {},
     "output_type": "display_data"
    },
    {
     "data": {
      "text/plain": [
       "0/|/| 0/? [00:04<?, ?it/s]"
      ]
     },
     "execution_count": 26,
     "metadata": {},
     "output_type": "execute_result"
    }
   ],
   "source": [
    "train_long = build_train(train_path)\n",
    "train_long.to_csv(\"train_long.csv\", index=None)"
   ]
  },
  {
   "cell_type": "code",
   "execution_count": 27,
   "metadata": {},
   "outputs": [
    {
     "data": {
      "application/vnd.jupyter.widget-view+json": {
       "model_id": "86d61c3abd92461282daa7d10df67281",
       "version_major": 2,
       "version_minor": 0
      },
      "text/plain": [
       "HBox(children=(IntProgress(value=1, bar_style='info', max=1), HTML(value='')))"
      ]
     },
     "metadata": {},
     "output_type": "display_data"
    },
    {
     "data": {
      "application/vnd.jupyter.widget-view+json": {
       "model_id": "723f9347aeb34f83b47d1c3f75faa070",
       "version_major": 2,
       "version_minor": 0
      },
      "text/plain": [
       "HBox(children=(IntProgress(value=1, bar_style='info', max=1), HTML(value='')))"
      ]
     },
     "metadata": {},
     "output_type": "display_data"
    },
    {
     "data": {
      "text/plain": [
       "0/|/| 0/? [00:00<?, ?it/s]"
      ]
     },
     "execution_count": 27,
     "metadata": {},
     "output_type": "execute_result"
    }
   ],
   "source": [
    "test_long = build_test(test_path)\n",
    "test_long.to_csv(\"test_long.csv\", index=None)"
   ]
  },
  {
   "cell_type": "code",
   "execution_count": 3,
   "metadata": {},
   "outputs": [],
   "source": [
    "train = pd.read_csv('train_long.csv')\n",
    "test = pd.read_csv('test_long.csv')"
   ]
  },
  {
   "cell_type": "code",
   "execution_count": 4,
   "metadata": {},
   "outputs": [
    {
     "name": "stdout",
     "output_type": "stream",
     "text": [
      "how many lines in train set: (2961338, 4)\n",
      "how many lines in test set: (45163, 4)\n"
     ]
    }
   ],
   "source": [
    "print('how many lines in train set:', train.shape)\n",
    "print('how many lines in test set:', test.shape)"
   ]
  },
  {
   "cell_type": "code",
   "execution_count": 5,
   "metadata": {},
   "outputs": [
    {
     "name": "stdout",
     "output_type": "stream",
     "text": [
      "-------------------------------------head--------------------------------------------\n",
      "        annotation_id  is_long_answer  \\\n",
      "0  593165450220027640           False   \n",
      "1  593165450220027640           False   \n",
      "2  593165450220027640           False   \n",
      "3  593165450220027640           False   \n",
      "4  593165450220027640            True   \n",
      "\n",
      "                                            question  \\\n",
      "0  which is the most common use of opt-in e-mail ...   \n",
      "1  which is the most common use of opt-in e-mail ...   \n",
      "2  which is the most common use of opt-in e-mail ...   \n",
      "3  which is the most common use of opt-in e-mail ...   \n",
      "4  which is the most common use of opt-in e-mail ...   \n",
      "\n",
      "                                                text  \n",
      "0  <Table> <Tr> <Td> </Td> <Td> ( hide ) This art...  \n",
      "1  <Tr> <Td> <Ul> <Li> Pay - per - click </Li> <L...  \n",
      "2  <P> Email marketing has evolved rapidly alongs...  \n",
      "3  <Li> Advertisers can reach substantial numbers...  \n",
      "4  <P> A common example of permission marketing i...  \n",
      "----------------------------------information----------------------------------------\n",
      "<class 'pandas.core.frame.DataFrame'>\n",
      "RangeIndex: 2961338 entries, 0 to 2961337\n",
      "Data columns (total 4 columns):\n",
      "annotation_id     uint64\n",
      "is_long_answer    bool\n",
      "question          object\n",
      "text              object\n",
      "dtypes: bool(1), object(2), uint64(1)\n",
      "memory usage: 70.6+ MB\n",
      "None\n",
      "-------------------------------- missing value---------------------------------------\n",
      "annotation_id     0\n",
      "is_long_answer    0\n",
      "question          0\n",
      "text              0\n",
      "dtype: int64\n",
      "----------------------------------nan value------------------------------------------\n",
      "annotation_id     0\n",
      "is_long_answer    0\n",
      "question          0\n",
      "text              0\n",
      "dtype: int64\n"
     ]
    }
   ],
   "source": [
    "print('-------------------------------------head--------------------------------------------')\n",
    "print(train.head())\n",
    "print('----------------------------------information----------------------------------------')\n",
    "print(train.info())\n",
    "print('-------------------------------- missing value---------------------------------------')\n",
    "print(train.isnull().sum())\n",
    "print('----------------------------------nan value------------------------------------------')\n",
    "print(train.isna().sum())"
   ]
  },
  {
   "cell_type": "code",
   "execution_count": 6,
   "metadata": {},
   "outputs": [
    {
     "name": "stdout",
     "output_type": "stream",
     "text": [
      "-------------------------------------head--------------------------------------------\n",
      "            example_id                                           question  \\\n",
      "0 -1220107454853145579  who is the south african high commissioner in ...   \n",
      "1 -1220107454853145579  who is the south african high commissioner in ...   \n",
      "2 -1220107454853145579  who is the south african high commissioner in ...   \n",
      "3 -1220107454853145579  who is the south african high commissioner in ...   \n",
      "4 -1220107454853145579  who is the south african high commissioner in ...   \n",
      "\n",
      "  sequence                                               text  \n",
      "0   18:136  <Table> <Tr> <Th_colspan=\"2\"> High Commission ...  \n",
      "1    19:30  <Tr> <Th_colspan=\"2\"> High Commission of South...  \n",
      "2    34:45  <Tr> <Th> Location </Th> <Td> Trafalgar Square...  \n",
      "3    45:59  <Tr> <Th> Address </Th> <Td> Trafalgar Square ...  \n",
      "4   59:126  <Tr> <Th> Coordinates </Th> <Td> 51 ° 30 ′ 30 ...  \n",
      "----------------------------------information----------------------------------------\n",
      "<class 'pandas.core.frame.DataFrame'>\n",
      "RangeIndex: 45163 entries, 0 to 45162\n",
      "Data columns (total 4 columns):\n",
      "example_id    45163 non-null int64\n",
      "question      45163 non-null object\n",
      "sequence      45163 non-null object\n",
      "text          45163 non-null object\n",
      "dtypes: int64(1), object(3)\n",
      "memory usage: 1.4+ MB\n",
      "None\n",
      "-------------------------------- missing value---------------------------------------\n",
      "example_id    0\n",
      "question      0\n",
      "sequence      0\n",
      "text          0\n",
      "dtype: int64\n",
      "----------------------------------nan value------------------------------------------\n",
      "example_id    0\n",
      "question      0\n",
      "sequence      0\n",
      "text          0\n",
      "dtype: int64\n"
     ]
    }
   ],
   "source": [
    "print('-------------------------------------head--------------------------------------------')\n",
    "print(test.head())\n",
    "print('----------------------------------information----------------------------------------')\n",
    "print(test.info())\n",
    "print('-------------------------------- missing value---------------------------------------')\n",
    "print(test.isnull().sum())\n",
    "print('----------------------------------nan value------------------------------------------')\n",
    "print(test.isna().sum())"
   ]
  },
  {
   "cell_type": "markdown",
   "metadata": {},
   "source": [
    "##### train中仅有152148条数据是正确答案，正确答案与备选答案的比例为1：19"
   ]
  },
  {
   "cell_type": "code",
   "execution_count": 7,
   "metadata": {},
   "outputs": [
    {
     "name": "stdout",
     "output_type": "stream",
     "text": [
      "the number of correct answer in train set: 152148\n"
     ]
    }
   ],
   "source": [
    "print('the number of correct answer in train set:', np.sum(train['is_long_answer']==True))"
   ]
  },
  {
   "cell_type": "code",
   "execution_count": 8,
   "metadata": {},
   "outputs": [
    {
     "data": {
      "text/plain": [
       "<matplotlib.axes._subplots.AxesSubplot at 0xa7d2a5a550>"
      ]
     },
     "execution_count": 8,
     "metadata": {},
     "output_type": "execute_result"
    },
    {
     "data": {
      "image/png": "[encoded data removed]",
      "text/plain": [
       "<Figure size 432x288 with 1 Axes>"
      ]
     },
     "metadata": {},
     "output_type": "display_data"
    }
   ],
   "source": [
    "train['is_long_answer'].value_counts().plot.pie(autopct='%1.2f%%')"
   ]
  },
  {
   "cell_type": "markdown",
   "metadata": {},
   "source": [
    "##### 取500条数据进行分析"
   ]
  },
  {
   "cell_type": "code",
   "execution_count": 9,
   "metadata": {},
   "outputs": [],
   "source": [
    "answer_incom = train['text'][:500].copy()"
   ]
  },
  {
   "cell_type": "code",
   "execution_count": 10,
   "metadata": {},
   "outputs": [],
   "source": [
    "# answer_incom[409]"
   ]
  },
  {
   "cell_type": "code",
   "execution_count": 11,
   "metadata": {},
   "outputs": [
    {
     "data": {
      "application/vnd.jupyter.widget-view+json": {
       "model_id": "1e8b26effc7f4fc8aff10bae19af84ef",
       "version_major": 2,
       "version_minor": 0
      },
      "text/plain": [
       "HBox(children=(IntProgress(value=0, max=500), HTML(value='')))"
      ]
     },
     "metadata": {},
     "output_type": "display_data"
    },
    {
     "name": "stdout",
     "output_type": "stream",
     "text": [
      "\n"
     ]
    }
   ],
   "source": [
    "for line in tqdm(range(len(answer_incom))):\n",
    "    answer_incom[line] = re.sub(r'<.*?>', '', answer_incom[line])  # 去掉<>标签\n",
    "    for i in string.punctuation:  # 去除标点符号\n",
    "        answer_incom[line] = answer_incom[line].replace(i, '')\n",
    "    answer_incom[line] = answer_incom[line].lower()  # 换为小写字母\n",
    "    answer_incom[line]=nltk.word_tokenize(answer_incom[line])  # 进行分词处理"
   ]
  },
  {
   "cell_type": "markdown",
   "metadata": {},
   "source": [
    "##### 记录每条备选答案的长度"
   ]
  },
  {
   "cell_type": "code",
   "execution_count": 12,
   "metadata": {},
   "outputs": [],
   "source": [
    "def wordcount(line):\n",
    "    return len(line)\n",
    "\n",
    "word_count = list(answer_incom.map(wordcount))"
   ]
  },
  {
   "cell_type": "code",
   "execution_count": 13,
   "metadata": {},
   "outputs": [
    {
     "data": {
      "text/plain": [
       "0    [hide, this, article, has, multiple, issues, p...\n",
       "1    [pay, per, click, cost, per, impression, searc...\n",
       "2    [email, marketing, has, evolved, rapidly, alon...\n",
       "3    [advertisers, can, reach, substantial, numbers...\n",
       "4    [a, common, example, of, permission, marketing...\n",
       "Name: text, dtype: object"
      ]
     },
     "execution_count": 13,
     "metadata": {},
     "output_type": "execute_result"
    }
   ],
   "source": [
    "answer_incom[:5]"
   ]
  },
  {
   "cell_type": "markdown",
   "metadata": {},
   "source": [
    "##### 备选答案长度整体分析"
   ]
  },
  {
   "cell_type": "code",
   "execution_count": 14,
   "metadata": {},
   "outputs": [
    {
     "data": {
      "text/plain": [
       "count     500.000000\n",
       "mean       61.714000\n",
       "std       222.196451\n",
       "min         0.000000\n",
       "25%         7.000000\n",
       "50%        16.500000\n",
       "75%        64.250000\n",
       "max      4056.000000\n",
       "dtype: float64"
      ]
     },
     "execution_count": 14,
     "metadata": {},
     "output_type": "execute_result"
    }
   ],
   "source": [
    "pd.Series(word_count).describe()"
   ]
  },
  {
   "cell_type": "markdown",
   "metadata": {},
   "source": [
    "##### 备选答案长度的分布, 似乎大部分集中在0-400"
   ]
  },
  {
   "cell_type": "code",
   "execution_count": 15,
   "metadata": {},
   "outputs": [
    {
     "data": {
      "text/plain": [
       "<matplotlib.collections.PathCollection at 0xa79eb78c50>"
      ]
     },
     "execution_count": 15,
     "metadata": {},
     "output_type": "execute_result"
    },
    {
     "data": {
      "image/png": "[encoded data removed]",
      "text/plain": [
       "<Figure size 1440x360 with 1 Axes>"
      ]
     },
     "metadata": {
      "needs_background": "light"
     },
     "output_type": "display_data"
    }
   ],
   "source": [
    "plt.figure(figsize=(20,5))\n",
    "plt.scatter(range(len(word_count)), word_count, s=75, alpha=0.5)"
   ]
  },
  {
   "cell_type": "markdown",
   "metadata": {},
   "source": [
    "##### 事实上，大多数长答案都没有很长"
   ]
  },
  {
   "cell_type": "code",
   "execution_count": 16,
   "metadata": {},
   "outputs": [
    {
     "data": {
      "text/plain": [
       "(0, 400)"
      ]
     },
     "execution_count": 16,
     "metadata": {},
     "output_type": "execute_result"
    },
    {
     "data": {
      "image/png": "[encoded data removed]",
      "text/plain": [
       "<Figure size 1080x360 with 1 Axes>"
      ]
     },
     "metadata": {
      "needs_background": "light"
     },
     "output_type": "display_data"
    }
   ],
   "source": [
    "# x轴没有特殊含义，y轴代表答案长度\n",
    "plt.figure(figsize=(15,5))\n",
    "plt.scatter(range(len(word_count)), word_count, s=75, alpha=0.5)\n",
    "plt.ylim(0, 400)"
   ]
  },
  {
   "cell_type": "markdown",
   "metadata": {},
   "source": [
    "##### 总共出现了 7332 个不同的单词"
   ]
  },
  {
   "cell_type": "code",
   "execution_count": 17,
   "metadata": {},
   "outputs": [
    {
     "name": "stdout",
     "output_type": "stream",
     "text": [
      "7332\n"
     ]
    }
   ],
   "source": [
    "word_list = []\n",
    "for i in answer_incom:\n",
    "    for j in range(len(i)):\n",
    "        word_list.append(i[j])\n",
    "print(len(set(word_list)))"
   ]
  },
  {
   "cell_type": "markdown",
   "metadata": {},
   "source": [
    "##### 重复单词有 23525 个！！！"
   ]
  },
  {
   "cell_type": "code",
   "execution_count": 18,
   "metadata": {},
   "outputs": [
    {
     "data": {
      "text/plain": [
       "23525"
      ]
     },
     "execution_count": 18,
     "metadata": {},
     "output_type": "execute_result"
    }
   ],
   "source": [
    "len(word_list) - len(set(word_list))"
   ]
  },
  {
   "cell_type": "markdown",
   "metadata": {},
   "source": [
    "##### 显示前 20 个出现次数最多的单词"
   ]
  },
  {
   "cell_type": "code",
   "execution_count": 19,
   "metadata": {},
   "outputs": [
    {
     "data": {
      "image/png": "[encoded data removed]",
      "text/plain": [
       "<Figure size 1080x360 with 1 Axes>"
      ]
     },
     "metadata": {
      "needs_background": "light"
     },
     "output_type": "display_data"
    }
   ],
   "source": [
    "plt.figure(figsize=(15, 5))\n",
    "data = pd.Series(word_list).value_counts()[:20]\n",
    "plt.bar(range(20), data, align = 'center',color='steelblue', alpha = 0.8)\n",
    "plt.ylabel('counts')\n",
    "plt.xticks(range(20),data.index)\n",
    "for x1, x2 in enumerate(data):\n",
    "    plt.text(x1-0.25, x2, x2)\n",
    "plt.show()"
   ]
  },
  {
   "cell_type": "code",
   "execution_count": null,
   "metadata": {},
   "outputs": [],
   "source": []
  },
  {
   "cell_type": "code",
   "execution_count": 291,
   "metadata": {},
   "outputs": [],
   "source": [
    "# def clean(line):    # 清洗\n",
    "#     line = re.sub(r'<.*?>', '', line)\n",
    "#     for i in string.punctuation:\n",
    "#         line = line.replace(i, '')\n",
    "#     return line.lower()\n",
    "# answer = answer.map(clean)\n",
    "\n",
    "# def wordtoken(line):    # 分词\n",
    "#     wordsinstr=nltk.word_tokenize(line)\n",
    "#     return wordsinstr\n",
    "# answer = answer.map(wordtoken)\n",
    "\n",
    "# def wordcount(line):    # 计数\n",
    "#     return len(line)\n",
    "# word_count = list(answer.map(wordcount))"
   ]
  }
 ],
 "metadata": {
  "kernelspec": {
   "display_name": "Python 3",
   "language": "python",
   "name": "python3"
  },
  "language_info": {
   "codemirror_mode": {
    "name": "ipython",
    "version": 3
   },
   "file_extension": ".py",
   "mimetype": "text/x-python",
   "name": "python",
   "nbconvert_exporter": "python",
   "pygments_lexer": "ipython3",
   "version": "3.7.3"
  }
 },
 "nbformat": 4,
 "nbformat_minor": 2
}
